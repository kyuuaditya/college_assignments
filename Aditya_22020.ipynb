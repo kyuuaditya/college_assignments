{
 "cells": [
  {
   "cell_type": "markdown",
   "metadata": {},
   "source": [
    "Using keras-preprocessing to import image and matplotlib to display the image."
   ]
  },
  {
   "cell_type": "code",
   "execution_count": 20,
   "metadata": {},
   "outputs": [
    {
     "data": {
      "text/plain": [
       "(512, 512)"
      ]
     },
     "execution_count": 20,
     "metadata": {},
     "output_type": "execute_result"
    }
   ],
   "source": [
    "from keras_preprocessing.image import load_img\n",
    "import numpy as np\n",
    "import matplotlib.pyplot as plt\n",
    "\n",
    "img = np.array(load_img('image.gif',color_mode='grayscale'))\n",
    "# img = np.array(img)\n",
    "img.shape # to log dimentions of image.\n",
    "# print(img)"
   ]
  },
  {
   "cell_type": "markdown",
   "metadata": {},
   "source": [
    "Importing and showing the image."
   ]
  },
  {
   "cell_type": "code",
   "execution_count": 21,
   "metadata": {},
   "outputs": [],
   "source": [
    "# plt.axis('off')\n",
    "# plt.imshow(img,cmap='gray')"
   ]
  },
  {
   "cell_type": "markdown",
   "metadata": {},
   "source": [
    "Getting the size of image and making the blank canvas."
   ]
  },
  {
   "cell_type": "code",
   "execution_count": 22,
   "metadata": {},
   "outputs": [],
   "source": [
    "def filter_function(image, filter):  #defing the filter\n",
    "  height, width = image.shape  #getting dimentions\n",
    "  filter_h, filter_w = filter.shape  #getting dimensions\n",
    "  pad = filter_h // 2 #only works for square filters\n",
    "  padding = np.zeros((height + 2 * pad, width + 2 * pad), dtype=int)#blank canvas\n",
    "  padding = np.pad(image, pad, mode='constant', constant_values=0)#padding\n",
    "  final_image = np.zeros_like(image, dtype=int) #updated image\n",
    "\n",
    "  for i in range(height): #loop for all pixels\n",
    "    for j in range(width):\n",
    "        temp = padding[i:i + filter_h, j:j + filter_w] #temprary variable\n",
    "        temp_sum = 0\n",
    "        for m in range(filter_h):\n",
    "            for n in range(filter_w):\n",
    "                temp_sum += temp[m, n] * filter[m, n]\n",
    "        final_image[i, j] = abs(temp_sum)/filter_h\n",
    "  return final_image"
   ]
  },
  {
   "cell_type": "code",
   "execution_count": 23,
   "metadata": {},
   "outputs": [],
   "source": [
    "filter_1 = np.array([[-1, 0, 1],\n",
    "                   [-1, 0, 1],\n",
    "                   [-1, 0, 1]])\n",
    "\n",
    "filter_2 = np.array([[1, 1, 1],\n",
    "                   [0, 0, 0],\n",
    "                   [-1, -1, -1]])\n",
    "\n",
    "filter_3 = np.array([\n",
    "    [-2,-1,0,1,2],\n",
    "    [-2,-1,0,1,2],\n",
    "    [-2,-1,0,1,2],\n",
    "    [-2,-1,0,1,2],\n",
    "    [-2,-1,0,1,2]\n",
    "])\n",
    "\n",
    "filter_4 = np.array([\n",
    "    [2,2,2,2,2],\n",
    "    [1,1,1,1,1],\n",
    "    [0,0,0,0,0],\n",
    "    [-1,-1,-1,-1,-1],\n",
    "    [-2,-2,-2,-2,-2]\n",
    "])"
   ]
  },
  {
   "cell_type": "code",
   "execution_count": 24,
   "metadata": {},
   "outputs": [],
   "source": [
    "# plt.figure(figsize=(12,8))\n",
    "\n",
    "# result_1 = filter_function(img, filter_1)\n",
    "# plt.subplot(2, 3, 1)\n",
    "# plt.axis('off')\n",
    "# # plt.imshow(result_1,cmap='gray')\n",
    "# plt.title('3*3 Vertical Edge Filter')\n",
    "\n",
    "# result_2 = filter_function(img, filter_2)\n",
    "# plt.subplot(2, 3, 2)\n",
    "# plt.axis('off')\n",
    "# # plt.imshow(result_2,cmap='gray')\n",
    "# plt.title('3*3 Horizontal Edge Filter')\n",
    "\n",
    "# result_3x3 = np.sqrt(result_1**2 + result_2**2)#/(1.415)  #taking rms of both filters\n",
    "# # result_3x3 = (result_1+result_2)/2\n",
    "# plt.subplot(2, 3, 3)\n",
    "# plt.axis('off')\n",
    "# # plt.imshow(result_3x3,cmap='gray')\n",
    "# plt.title('3*3 Resultant Filter')\n",
    "\n",
    "# result_3 = filter_function(img, filter_3)\n",
    "# plt.subplot(2, 3, 4)\n",
    "# plt.axis('off')\n",
    "# # plt.imshow(result_3,cmap='gray')\n",
    "# plt.title('5*5 Vertical Edge Filter')\n",
    "\n",
    "# result_4 = filter_function(img, filter_4)\n",
    "# plt.subplot(2, 3, 5)\n",
    "# plt.axis('off')\n",
    "# # plt.imshow(result_4,cmap='gray')\n",
    "# plt.title('5*5 Horizontal Edge Filter')\n",
    "\n",
    "# result_5x5 = np.sqrt(result_3**2 + result_4**2)#/(1.415)  #taking rms of both filters\n",
    "# # result_5x5 = (result_3 + result_4)/2\n",
    "# plt.subplot(2, 3, 6)\n",
    "# plt.axis('off')\n",
    "# # plt.imshow(result_5x5,cmap='gray')\n",
    "# plt.title('5*5 Resultant Filter')\n"
   ]
  },
  {
   "cell_type": "markdown",
   "metadata": {},
   "source": [
    "Question 2"
   ]
  },
  {
   "cell_type": "markdown",
   "metadata": {},
   "source": [
    "(a)"
   ]
  },
  {
   "cell_type": "code",
   "execution_count": 25,
   "metadata": {},
   "outputs": [],
   "source": [
    "def sobel_filter_function(image, filter):  #defing the filter\n",
    "  height, width = image.shape  #getting dimentions\n",
    "  filter_h, filter_w = filter.shape  #getting dimensions\n",
    "  pad = filter_h // 2 #only works for square filters\n",
    "  padding = np.zeros((height + 2 * pad, width + 2 * pad), dtype=int)#blank canvas\n",
    "  padding = np.pad(image, pad, mode='constant', constant_values=0)#padding\n",
    "  final_image = np.zeros_like(image, dtype=int) #updated image\n",
    "\n",
    "  for i in range(height): #loop for all pixels\n",
    "    for j in range(width):\n",
    "        temp = padding[i:i + filter_h, j:j + filter_w] #temprary variable\n",
    "        temp_sum = 0\n",
    "        for m in range(filter_h):\n",
    "            for n in range(filter_w):\n",
    "                temp_sum += temp[m, n] * filter[m, n]\n",
    "        final_image[i, j] = abs(temp_sum)/filter_h\n",
    "  return final_image"
   ]
  },
  {
   "cell_type": "code",
   "execution_count": 26,
   "metadata": {},
   "outputs": [],
   "source": [
    "sobel_3x3_x = np.array([\n",
    "    [-1, 0, 1],\n",
    "    [-2, 0, 2],\n",
    "    [-1, 0, 1]\n",
    "    ])\n",
    "\n",
    "sobel_3x3_y = np.array([\n",
    "    [1, 2, 1],\n",
    "    [0, 0, 0],\n",
    "    [-1, -2, -1]\n",
    "    ])\n",
    "\n",
    "sobel_5x5_x = np.array([\n",
    "    [-1, -2, 0, 2, 1],\n",
    "    [-2, -3, 0, 3, 2],\n",
    "    [-3, -5, 0, 5, 3],\n",
    "    [-2, -3, 0, 3, 2],\n",
    "    [-1, -2, 0, 2, 1]\n",
    "    ])\n",
    "\n",
    "sobel_5x5_y = np.array([\n",
    "    [1, 2, 3, 2, 1],\n",
    "    [2, 3, 5, 3, 2],\n",
    "    [0, 0, 0, 0, 0],\n",
    "    [-2, -3, -5, -3, -2],\n",
    "    [-1, -2, -3, -2, -1]\n",
    "    ])"
   ]
  },
  {
   "cell_type": "code",
   "execution_count": 27,
   "metadata": {},
   "outputs": [],
   "source": [
    "# plt.figure(figsize=(20,10))\n",
    "# plt.subplot(2,4,1)\n",
    "# plt.axis('off')\n",
    "# # plt.imshow(img, cmap='grey')\n",
    "# plt.title('Original Image')\n",
    "\n",
    "# image_3x3_x = sobel_filter_function(img, sobel_3x3_x)\n",
    "# plt.subplot(2,4,2)\n",
    "# plt.axis('off')\n",
    "# # plt.imshow(image_3x3_x, cmap='grey')\n",
    "# plt.title('3*3 Sobel X Filter')\n",
    "\n",
    "# image_3x3_y = sobel_filter_function(img, sobel_3x3_y)\n",
    "# plt.subplot(2,4,3)\n",
    "# plt.axis('off')\n",
    "# # plt.imshow(image_3x3_y, cmap='grey')\n",
    "# plt.title('3*3 Sobel Y Filter')\n",
    "\n",
    "# sobel_3x3 = np.sqrt(image_3x3_x**2 + image_3x3_y**2)\n",
    "# plt.subplot(2,4,4)\n",
    "# plt.axis('off')\n",
    "# # plt.imshow(sobel_3x3, cmap='grey')\n",
    "# plt.title('3*3 Sobel Resultant Image')\n",
    "\n",
    "# plt.subplot(2,4,5)\n",
    "# plt.axis('off')\n",
    "# # plt.imshow(img, cmap='grey')\n",
    "# plt.title('Original Image')\n",
    "\n",
    "# image_5x5_x = sobel_filter_function(img, sobel_5x5_x)\n",
    "# plt.subplot(2,4,6)\n",
    "# plt.axis('off')\n",
    "# # plt.imshow(image_5x5_x, cmap='grey')\n",
    "# plt.title('5*5 Sobel X Filter')\n",
    "\n",
    "# image_5x5_y = sobel_filter_function(img, sobel_5x5_y)\n",
    "# plt.subplot(2,4,7)\n",
    "# plt.axis('off')\n",
    "# # plt.imshow(image_5x5_y, cmap='grey')\n",
    "# plt.title('5*5 Sobel Y Filter')\n",
    "\n",
    "# sobel_5x5 = np.sqrt(image_5x5_x**2 + image_5x5_y**2)\n",
    "# plt.subplot(2,4,8)\n",
    "# plt.axis('off')\n",
    "# # plt.imshow(sobel_5x5, cmap='grey')\n",
    "# plt.title('5*5 Sobel Resultant Image')\n",
    "\n",
    "# plt.show()"
   ]
  },
  {
   "cell_type": "markdown",
   "metadata": {},
   "source": [
    "(c)"
   ]
  },
  {
   "cell_type": "code",
   "execution_count": 28,
   "metadata": {},
   "outputs": [],
   "source": [
    "# plt.figure(figsize=(9,27))\n",
    "# Ts = [15, 30, 45, 60, 75]\n",
    "# i =1\n",
    "# for T in Ts:\n",
    "#   temp_1 = sobel_3x3.copy()\n",
    "#   temp_1[temp_1 < T] = 0\n",
    "#   plt.subplot(len(Ts), 2, i)\n",
    "#   plt.imshow(temp_1, cmap='gray')\n",
    "#   plt.title(f'3*3 with T {T}')\n",
    "#   i+=1\n",
    "#   temp_2 = sobel_5x5.copy()\n",
    "#   temp_2[temp_2 < T] = 0 #threshold which makes values under the threshold as 0.\n",
    "#   plt.subplot(len(Ts), 2, i)\n",
    "#   plt.imshow(temp_2, cmap='gray')\n",
    "#   plt.title(f'5*5 with T {T}')\n",
    "#   i+=1\n",
    "# plt.show()"
   ]
  },
  {
   "cell_type": "markdown",
   "metadata": {},
   "source": [
    "(d)"
   ]
  },
  {
   "cell_type": "code",
   "execution_count": 29,
   "metadata": {},
   "outputs": [],
   "source": [
    "def add_noise(image, mean=0, std=20):\n",
    "    noise_map = np.random.normal(mean, std, image.shape).astype(np.uint8)\n",
    "    noisy_image = image + noise_map\n",
    "    return noisy_image\n",
    "\n",
    "noisy_img = add_noise(img, 0, 25)\n",
    "\n",
    "# plt.imshow(noisy_img, cmap='gray')"
   ]
  },
  {
   "cell_type": "code",
   "execution_count": 30,
   "metadata": {},
   "outputs": [],
   "source": [
    "# plt.figure(figsize=(10,20))\n",
    "# noises = [0,10,30,50]\n",
    "# x =1\n",
    "# for noise in noises:\n",
    "#   noisy_img = add_noise(img, 0, noise)\n",
    "#   image_3x3_x = sobel_filter_function(noisy_img, sobel_3x3_x)\n",
    "#   image_3x3_y = sobel_filter_function(noisy_img, sobel_3x3_y)\n",
    "#   sobel_3x3_noisy = np.sqrt(image_3x3_x**2 + image_3x3_y**2)\n",
    "#   # sobel_3x3_noisy[sobel_3x3_noisy < 20] = 0\n",
    "#   # sobel_3x3_noisy[sobel_3x3_noisy >= 20] = 1\n",
    "#   plt.subplot(len(noises), 2, x)\n",
    "#   plt.imshow(sobel_3x3_noisy, cmap='gray')\n",
    "#   plt.title(f'3*3 with noise {noise}')\n",
    "#   x+=1\n",
    "#   image_5x5_x = sobel_filter_function(noisy_img, sobel_5x5_x)\n",
    "#   image_5x5_y = sobel_filter_function(noisy_img, sobel_5x5_y)\n",
    "#   sobel_5x5_noisy = np.sqrt(image_5x5_x**2 + image_5x5_y**2)\n",
    "#   # sobel_5x5_noisy[sobel_5x5_noisy < 20] = 0\n",
    "#   # sobel_5x5_noisy[sobel_5x5_noisy >= 20] = 1\n",
    "#   plt.subplot(len(noises), 2, x)\n",
    "#   plt.imshow(sobel_5x5_noisy, cmap='gray')\n",
    "#   plt.title(f'5*5 with noise {noise}')\n",
    "#   x+=1\n",
    "# plt.show()"
   ]
  },
  {
   "cell_type": "markdown",
   "metadata": {},
   "source": [
    "Question 3"
   ]
  },
  {
   "cell_type": "markdown",
   "metadata": {},
   "source": [
    "(a)"
   ]
  },
  {
   "cell_type": "code",
   "execution_count": 31,
   "metadata": {},
   "outputs": [],
   "source": [
    "def final_function(image, filter):  #defing the filter\n",
    "  height, width = image.shape  #getting dimentions\n",
    "  filter_h, filter_w = filter.shape  #getting dimensions\n",
    "  pad = filter_h // 2 #only works for square filters\n",
    "  padding = np.zeros((height + 2 * pad, width + 2 * pad), dtype=int)#blank canvas\n",
    "  padding = np.pad(image, pad, mode='constant', constant_values=0)#padding\n",
    "  final_image = np.zeros_like(image, dtype=int) #updated image\n",
    "\n",
    "  for i in range(height): #loop for all pixels\n",
    "    for j in range(width):\n",
    "        temp = padding[i:i + filter_h, j:j + filter_w] #temprary variable\n",
    "        temp_sum = 0\n",
    "        for m in range(filter_h):\n",
    "            for n in range(filter_w):\n",
    "                temp_sum += temp[m, n] * filter[m, n]\n",
    "        final_image[i, j] = (temp_sum)\n",
    "  final_image=final_image*255/final_image.max()\n",
    "  return final_image"
   ]
  },
  {
   "cell_type": "code",
   "execution_count": 32,
   "metadata": {},
   "outputs": [],
   "source": [
    "gaussian_filter = np.array([\n",
    "    [1,2,1],\n",
    "    [2,4,2],\n",
    "    [1,2,1]\n",
    "    ])"
   ]
  },
  {
   "cell_type": "code",
   "execution_count": 33,
   "metadata": {},
   "outputs": [],
   "source": [
    "final_img = final_function(img, gaussian_filter)\n",
    "# plt.axis('off')\n",
    "# plt.imshow(final_img, cmap='gray')\n"
   ]
  },
  {
   "cell_type": "markdown",
   "metadata": {},
   "source": [
    "(b)"
   ]
  },
  {
   "cell_type": "code",
   "execution_count": 34,
   "metadata": {},
   "outputs": [],
   "source": [
    "laplacian_filter = np.array([\n",
    "    [0,1,0],\n",
    "    [1,-4,1],\n",
    "    [0,1,0]]\n",
    "    )"
   ]
  },
  {
   "cell_type": "code",
   "execution_count": 35,
   "metadata": {},
   "outputs": [],
   "source": [
    "lap_img = final_function(final_img, laplacian_filter)\n",
    "\n",
    "# plt.imshow(lap_img, cmap=\"grey\")\n",
    "# plt.title('Laplacian Filter')\n",
    "# plt.show()"
   ]
  },
  {
   "cell_type": "code",
   "execution_count": 36,
   "metadata": {},
   "outputs": [],
   "source": [
    "def crossings(lap_img):\n",
    "    z_img = np.zeros_like(img, dtype=np.float32)\n",
    "    for i in range(lap_img.shape[0]-1):\n",
    "        for j in range(lap_img.shape[1]-1):\n",
    "            pixel_value = lap_img[i,j]\n",
    "            temp = [\n",
    "                lap_img[i-1,j-1],\n",
    "                lap_img[i-1,j],\n",
    "                lap_img[i,j-1],\n",
    "                lap_img[i-1,j+1],\n",
    "                lap_img[i,j+1],\n",
    "                lap_img[i+1,j-1],\n",
    "                lap_img[i+1,j],\n",
    "                lap_img[i+1,j+1],\n",
    "            ]\n",
    "\n",
    "            for n in range(len(temp)):\n",
    "                if ((pixel_value>0 and temp[n]<0) or (pixel_value<0 and temp[n]>0)):\n",
    "                    z_img[i,j]=1\n",
    "\n",
    "    return z_img"
   ]
  },
  {
   "cell_type": "code",
   "execution_count": 37,
   "metadata": {},
   "outputs": [],
   "source": [
    "z_img = 1-(crossings(lap_img))\n",
    "# plt.imshow(z_img, cmap='grey')\n",
    "# plt.title(\"zero crossing with smoothening\")"
   ]
  },
  {
   "cell_type": "code",
   "execution_count": 38,
   "metadata": {},
   "outputs": [],
   "source": [
    "z_img_2 = final_function(img, laplacian_filter)\n",
    "final_image = 1- (crossings(z_img_2))\n",
    "# plt.imshow(final_image, cmap='grey')\n",
    "# plt.title(\"zero crossing without smoothening\")\n",
    "# plt.show()\n"
   ]
  }
 ],
 "metadata": {
  "kernelspec": {
   "display_name": "Python 3",
   "language": "python",
   "name": "python3"
  },
  "language_info": {
   "codemirror_mode": {
    "name": "ipython",
    "version": 3
   },
   "file_extension": ".py",
   "mimetype": "text/x-python",
   "name": "python",
   "nbconvert_exporter": "python",
   "pygments_lexer": "ipython3",
   "version": "3.12.5"
  }
 },
 "nbformat": 4,
 "nbformat_minor": 2
}
